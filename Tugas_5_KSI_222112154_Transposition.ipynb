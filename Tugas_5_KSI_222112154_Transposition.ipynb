{
  "nbformat": 4,
  "nbformat_minor": 0,
  "metadata": {
    "colab": {
      "provenance": []
    },
    "kernelspec": {
      "name": "python3",
      "display_name": "Python 3"
    },
    "language_info": {
      "name": "python"
    }
  },
  "cells": [
    {
      "cell_type": "markdown",
      "source": [
        "**ENCRYPT**"
      ],
      "metadata": {
        "id": "WGJ4WJiqbyQU"
      }
    },
    {
      "cell_type": "code",
      "execution_count": null,
      "metadata": {
        "id": "66lznyLAbacD"
      },
      "outputs": [],
      "source": [
        "from ctypes import c_longlong\n",
        "def encrypt_transposition(text, key):\n",
        "    # Menentukan jumlah kolom pada grid\n",
        "    rows = (len(text) + key - 1) // key\n",
        "    # inisialisasi grid\n",
        "    grid = [[' ' for _ in range(key)] for _ in range(rows)]\n",
        "\n",
        "    # Mengisi grid per baris\n",
        "    index = 0\n",
        "    for j in range(key):\n",
        "        for i in range(rows):\n",
        "            if index < len(text):\n",
        "                grid[i][j] = text[index]\n",
        "                index += 1\n",
        "\n",
        "    # Encrypt dari grid\n",
        "    encrypted_text = ''.join(''.join(row) for row in grid)\n",
        "    return encrypted_text\n",
        "\n",
        "def decrypt_transposition(text, key):\n",
        "    # Menentukan jumlah baris pada grid\n",
        "    rows = (len(text) + key - 1) // key\n",
        "    # inisialisasi grid\n",
        "    grid = [[' ' for _ in range(key)] for _ in range(rows)]\n",
        "\n",
        "    # Mengisi grid per kolom\n",
        "    index = 0\n",
        "    for i in range(rows):\n",
        "        for j in range(key):\n",
        "            if index < len(text):\n",
        "                grid[i][j] = text[index]\n",
        "                index += 1\n",
        "\n",
        "    # Decrypt dari grid\n",
        "    decrypted_text = ''.join(''.join(row) for row in zip(*grid))\n",
        "    return decrypted_text\n",
        "\n",
        "def main():\n",
        "    text = input(\"Masukkan teks yang ingin dienkripsi: \")\n",
        "    key = int(input(\"Masukkan kunci untuk enkripsi (hanya dalam bilangan bulat): \"))\n",
        "\n",
        "    # Encrypt the text\n",
        "    encrypted_text = encrypt_transposition(text, key)\n",
        "    print(\"Encrypted text:\", encrypted_text)\n",
        "\n",
        "    # Decrypt the text\n",
        "    decrypted_text = decrypt_transposition(encrypted_text, key)\n",
        "    print(\"Decrypted text:\", decrypted_text)\n",
        "\n",
        "if __name__ == \"__main__\":\n",
        "    main()"
      ]
    },
    {
      "cell_type": "markdown",
      "source": [
        "**DECRYPT**"
      ],
      "metadata": {
        "id": "kpzCZWkvb1iA"
      }
    },
    {
      "cell_type": "code",
      "source": [
        "from ctypes import c_longlong\n",
        "def decrypt_transposition(text, key):\n",
        "    # Menentukan jumlah baris pada grid\n",
        "    rows = (len(text) + key - 1) // key\n",
        "    # inisialisasi grid\n",
        "    grid = [[' ' for _ in range(key)] for _ in range(rows)]\n",
        "\n",
        "    # Mengisi grid per kolom\n",
        "    index = 0\n",
        "    for i in range(rows):\n",
        "        for j in range(key):\n",
        "            if index < len(text):\n",
        "                grid[i][j] = text[index]\n",
        "                index += 1\n",
        "\n",
        "    # Decrypt dari grid\n",
        "    decrypted_text = ''.join(''.join(row) for row in zip(*grid))\n",
        "    return decrypted_text\n",
        "\n",
        "def main():\n",
        "    text = input(\"Masukkan teks yang ingin didekripsi: \")\n",
        "    key = int(input(\"Masukkan kunci untuk enkripsi (hanya dalam bilangan bulat): \"))\n",
        "\n",
        "    # Decrypt the text\n",
        "    decrypted_text = decrypt_transposition(text, key)\n",
        "    print(\"Decrypted text:\", decrypted_text)\n",
        "\n",
        "if __name__ == \"__main__\":\n",
        "    main()"
      ],
      "metadata": {
        "id": "as1DNqIhbuRH"
      },
      "execution_count": null,
      "outputs": []
    }
  ]
}