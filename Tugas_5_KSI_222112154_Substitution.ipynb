{
  "nbformat": 4,
  "nbformat_minor": 0,
  "metadata": {
    "colab": {
      "provenance": []
    },
    "kernelspec": {
      "name": "python3",
      "display_name": "Python 3"
    },
    "language_info": {
      "name": "python"
    }
  },
  "cells": [
    {
      "cell_type": "markdown",
      "source": [
        "**ENCRYPT**"
      ],
      "metadata": {
        "id": "ZgugyXwwcVDz"
      }
    },
    {
      "cell_type": "code",
      "execution_count": null,
      "metadata": {
        "id": "4b0MmESZcHS_"
      },
      "outputs": [],
      "source": [
        "def encrypt_substitution(text, key):\n",
        "    # Buat peta penggantian karakter\n",
        "    char_map = {}\n",
        "    for i in range(len(key)):\n",
        "        char_map[chr(97 + i)] = key[i]\n",
        "\n",
        "    # Enkripsi teks\n",
        "    encrypted_text = ''.join(char_map.get(char, char) for char in text.lower())\n",
        "    return encrypted_text\n",
        "\n",
        "def decrypt_substitution(text, key):\n",
        "    # Buat peta penggantian karakter\n",
        "    char_map = {}\n",
        "    for i in range(len(key)):\n",
        "        char_map[key[i]] = chr(97 + i)\n",
        "\n",
        "    # Dekripsi teks\n",
        "    decrypted_text = ''.join(char_map.get(char, char) for char in text.lower())\n",
        "    return decrypted_text\n",
        "\n",
        "def main():\n",
        "    text = input(\"Masukkan teks yang ingin dienkripsi: \")\n",
        "    key = input(\"Masukkan kunci untuk enkripsi: \")\n",
        "\n",
        "    # Enkripsi teks\n",
        "    encrypted_text = encrypt_substitution(text, key)\n",
        "\n",
        "    # Dekripsi teks\n",
        "    decrypted_text = decrypt_substitution(encrypted_text, key)\n",
        "\n",
        "    # Tampilkan hasil\n",
        "    print(\"Original text:   \", text)\n",
        "    print(\"Encrypted text:\", encrypted_text)\n",
        "    print(\"Decrypted text:\", decrypted_text)\n",
        "\n",
        "if __name__ == \"__main__\":\n",
        "    main()"
      ]
    },
    {
      "cell_type": "markdown",
      "source": [
        "**DECRYPT**"
      ],
      "metadata": {
        "id": "NAVoT8UicZmM"
      }
    },
    {
      "cell_type": "code",
      "source": [
        "def decrypt_substitution(text, key):\n",
        "    # Buat peta penggantian karakter\n",
        "    char_map = {}\n",
        "    for i in range(len(key)):\n",
        "        char_map[key[i]] = chr(97 + i)\n",
        "\n",
        "    # Dekripsi teks\n",
        "    decrypted_text = ''.join(char_map.get(char, char) for char in text.lower())\n",
        "    return decrypted_text\n",
        "\n",
        "def main():\n",
        "    text = input(\"Masukkan teks yang ingin dienkripsi: \")\n",
        "    key = input(\"Masukkan kunci untuk enkripsi: \")\n",
        "\n",
        "    # Dekripsi teks\n",
        "    decrypted_text = decrypt_substitution(text, key)\n",
        "\n",
        "    # Tampilkan hasil\n",
        "    print(\"Encrypted text:\", text)\n",
        "    print(\"Decrypted text:\", decrypted_text)\n",
        "\n",
        "if __name__ == \"__main__\":\n",
        "    main()"
      ],
      "metadata": {
        "id": "dbmsboQvcRV1"
      },
      "execution_count": null,
      "outputs": []
    }
  ]
}